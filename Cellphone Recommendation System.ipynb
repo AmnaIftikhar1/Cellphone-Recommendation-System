{
 "cells": [
  {
   "cell_type": "code",
   "execution_count": 112,
   "id": "589bf701",
   "metadata": {},
   "outputs": [],
   "source": [
    "import pandas as pd\n",
    "import numpy as np\n",
    "from sklearn.preprocessing import StandardScaler\n",
    "from sklearn.model_selection import train_test_split\n",
    "from sklearn.neighbors import KNeighborsRegressor\n",
    "from sklearn.metrics import mean_squared_error"
   ]
  },
  {
   "cell_type": "code",
   "execution_count": 150,
   "id": "44dbf5c5",
   "metadata": {},
   "outputs": [],
   "source": [
    "def preprocess_data(data):\n",
    "    data['release date'] = pd.to_datetime(data['release date'], format='%d/%m/%Y')\n",
    "\n",
    "    min_date = data['release date'].min()\n",
    "    \n",
    "    data['release date'] = (data['release date'] - min_date).dt.days\n",
    "    \n",
    "    data = pd.get_dummies(data, columns=['brand', 'operating system'], prefix=['brand', 'os'])\n",
    "\n",
    "    data.dropna(inplace=True)\n",
    "\n",
    "    return data\n"
   ]
  },
  {
   "cell_type": "code",
   "execution_count": 151,
   "id": "6747b167",
   "metadata": {},
   "outputs": [],
   "source": [
    "def split_data(data):\n",
    "    X = data.drop(['cellphone_id', 'model', 'price'], axis=1)\n",
    "    y = data['price']\n",
    "    \n",
    "    X_train, X_test, y_train, y_test = train_test_split(X, y, test_size=0.2, random_state=42)\n",
    "\n",
    "    return X_train, X_test, y_train, y_test"
   ]
  },
  {
   "cell_type": "code",
   "execution_count": 152,
   "id": "9cddfa8a",
   "metadata": {},
   "outputs": [],
   "source": [
    "def select_model(X_train, y_train):\n",
    "    return KNeighborsRegressor(n_neighbors=5) "
   ]
  },
  {
   "cell_type": "code",
   "execution_count": 153,
   "id": "1faa0dc2",
   "metadata": {},
   "outputs": [],
   "source": [
    "def train_model(model, X_train, y_train):\n",
    "    model.fit(X_train, y_train)"
   ]
  },
  {
   "cell_type": "code",
   "execution_count": 154,
   "id": "466ab932",
   "metadata": {},
   "outputs": [],
   "source": [
    "def evaluate_model(model, X_test, y_test):\n",
    "    y_pred = model.predict(X_test)\n",
    "    mse = mean_squared_error(y_test, y_pred)\n",
    "    return mse"
   ]
  },
  {
   "cell_type": "code",
   "execution_count": 162,
   "id": "baaf038c",
   "metadata": {},
   "outputs": [],
   "source": [
    "def generate_recommendations(model, data, user_preferences, top_n=5):\n",
    "    brand, screen_size, price = user_preferences\n",
    "    brand_column = f'brand_{brand}'\n",
    "    filtered_data = data[(data[brand_column] == 1) & (data['screen size'] >= screen_size) & (data['price'] <= price)]\n",
    "\n",
    "    if len(filtered_data) < top_n:\n",
    "        filtered_data = data[data['price'] <= price]\n",
    "\n",
    "    X_recommend = filtered_data.drop(['cellphone_id', 'model', 'price'], axis=1)\n",
    "    _, top_indices = model.kneighbors(X_recommend, n_neighbors=top_n)\n",
    "    recommendations = data.iloc[top_indices.flatten(), :].copy()\n",
    "    recommendations['distance'] = top_indices.flatten()\n",
    "\n",
    "    return recommendations\n"
   ]
  },
  {
   "cell_type": "code",
   "execution_count": 164,
   "id": "54f1d609",
   "metadata": {},
   "outputs": [
    {
     "name": "stdout",
     "output_type": "stream",
     "text": [
      "Mean Squared Error: 130918.54285714285\n",
      "Recommended Cellphones:\n",
      "    cellphone_id             model  internal memory  RAM  performance  \\\n",
      "2              2         iPhone 13              128    4         7.75   \n",
      "9              9        Galaxy A53              128    6         3.79   \n",
      "12            12  Galaxy S22 Ultra              128    8         9.68   \n",
      "10            10        Galaxy S22              128    8         8.81   \n",
      "6              6         Zenfone 8              128    8         6.76   \n",
      "..           ...               ...              ...  ...          ...   \n",
      "21            21               10T              128    8        11.00   \n",
      "22            22       Find X5 Pro              256   12        10.12   \n",
      "8              8        Galaxy A32               64    4         2.20   \n",
      "20            20            10 Pro              128    8         8.86   \n",
      "11            11   Galaxy S22 Plus              128    8         7.22   \n",
      "\n",
      "    main camera  selfie camera  battery size  screen size  weight  ...  \\\n",
      "2            12             12          3240          6.1     174  ...   \n",
      "9            64             32          5000          6.5     189  ...   \n",
      "12          108             40          5000          6.8     228  ...   \n",
      "10           50             10          3700          6.1     167  ...   \n",
      "6            64             12          4000          5.9     169  ...   \n",
      "..          ...            ...           ...          ...     ...  ...   \n",
      "21           50             16          4800          6.7     204  ...   \n",
      "22           50             32          5000          6.7     218  ...   \n",
      "8            48             13          5000          6.5     205  ...   \n",
      "20           48             32          5000          6.7     201  ...   \n",
      "11           50             10          4500          6.6     195  ...   \n",
      "\n",
      "    brand_Motorola  brand_OnePlus  brand_Oppo  brand_Samsung  brand_Sony  \\\n",
      "2                0              0           0              0           0   \n",
      "9                0              0           0              1           0   \n",
      "12               0              0           0              1           0   \n",
      "10               0              0           0              1           0   \n",
      "6                0              0           0              0           0   \n",
      "..             ...            ...         ...            ...         ...   \n",
      "21               0              1           0              0           0   \n",
      "22               0              0           1              0           0   \n",
      "8                0              0           0              1           0   \n",
      "20               0              1           0              0           0   \n",
      "11               0              0           0              1           0   \n",
      "\n",
      "    brand_Vivo  brand_Xiaomi  os_Android  os_iOS  distance  \n",
      "2            0             0           0       1         2  \n",
      "9            0             0           1       0         9  \n",
      "12           0             0           1       0        12  \n",
      "10           0             0           1       0        10  \n",
      "6            0             0           1       0         6  \n",
      "..         ...           ...         ...     ...       ...  \n",
      "21           0             0           1       0        21  \n",
      "22           0             0           1       0        22  \n",
      "8            0             0           1       0         8  \n",
      "20           0             0           1       0        20  \n",
      "11           0             0           1       0        11  \n",
      "\n",
      "[120 rows x 25 columns]\n"
     ]
    }
   ],
   "source": [
    "if __name__ == '__main__':\n",
    "    data = pd.read_csv('cellphones data.csv')\n",
    "\n",
    "    data = preprocess_data(data)\n",
    "\n",
    "    X_train, X_test, y_train, y_test = split_data(data)\n",
    "\n",
    "    model = select_model(X_train, y_train)\n",
    "\n",
    "    train_model(model, X_train, y_train)\n",
    "\n",
    "    mse = evaluate_model(model, X_test, y_test)\n",
    "    print(\"Mean Squared Error:\", mse)\n",
    "\n",
    "    user_preferences = ('Apple', 5.5, 800)\n",
    "\n",
    "    recommendations = generate_recommendations(model, data, user_preferences, top_n=5)\n",
    "\n",
    "    print(\"Recommended Cellphones:\")\n",
    "    print(recommendations)"
   ]
  },
  {
   "cell_type": "code",
   "execution_count": 168,
   "id": "b5d4a1c6",
   "metadata": {},
   "outputs": [
    {
     "data": {
      "image/png": "[encoded data removed]",
      "text/plain": [
       "<Figure size 720x432 with 1 Axes>"
      ]
     },
     "metadata": {
      "needs_background": "light"
     },
     "output_type": "display_data"
    }
   ],
   "source": [
    "import matplotlib.pyplot as plt\n",
    "\n",
    "top_5_recommendations = recommendations.head(5)\n",
    "\n",
    "plt.figure(figsize=(10, 6))\n",
    "plt.bar(top_5_recommendations['model'], top_5_recommendations['screen size'])\n",
    "plt.xlabel('Cellphone Model')\n",
    "plt.ylabel('Screen Size (inches)')\n",
    "plt.title('Top 5 Recommended Cellphones - Screen Size')\n",
    "plt.xticks(rotation=45, ha='right')\n",
    "plt.tight_layout()\n",
    "plt.show()\n",
    "\n"
   ]
  },
  {
   "cell_type": "code",
   "execution_count": 169,
   "id": "695161d3",
   "metadata": {},
   "outputs": [
    {
     "data": {
      "image/png": "[encoded data removed]",
      "text/plain": [
       "<Figure size 576x432 with 1 Axes>"
      ]
     },
     "metadata": {
      "needs_background": "light"
     },
     "output_type": "display_data"
    }
   ],
   "source": [
    "plt.figure(figsize=(8, 6))\n",
    "plt.scatter(top_5_recommendations['screen size'], top_5_recommendations['price'], marker='o', s=100)\n",
    "plt.xlabel('Screen Size (inches)')\n",
    "plt.ylabel('Price ($)')\n",
    "plt.title('Top 5 Recommended Cellphones - Screen Size vs. Price')\n",
    "plt.grid(True)\n",
    "plt.tight_layout()\n",
    "plt.show()\n"
   ]
  },
  {
   "cell_type": "code",
   "execution_count": null,
   "id": "bcfa15d5",
   "metadata": {},
   "outputs": [],
   "source": []
  }
 ],
 "metadata": {
  "kernelspec": {
   "display_name": "Python 3 (ipykernel)",
   "language": "python",
   "name": "python3"
  },
  "language_info": {
   "codemirror_mode": {
    "name": "ipython",
    "version": 3
   },
   "file_extension": ".py",
   "mimetype": "text/x-python",
   "name": "python",
   "nbconvert_exporter": "python",
   "pygments_lexer": "ipython3",
   "version": "3.9.12"
  }
 },
 "nbformat": 4,
 "nbformat_minor": 5
}
